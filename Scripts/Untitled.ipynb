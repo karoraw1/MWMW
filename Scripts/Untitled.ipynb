{
 "cells": [
  {
   "cell_type": "code",
   "execution_count": null,
   "metadata": {
    "collapsed": false
   },
   "outputs": [],
   "source": [
    "from load_classif_data import *\n",
    "from analyze_classif_data import *\n",
    "import matplotlib.pyplot as plt\n",
    "import pandas as pd\n",
    "import numpy as np\n",
    "from scipy.spatial.distance import pdist, squareform\n",
    "import os\n",
    "from itertools import chain"
   ]
  },
  {
   "cell_type": "code",
   "execution_count": null,
   "metadata": {
    "collapsed": false
   },
   "outputs": [],
   "source": [
    "f_bin_df1 = import_bin_data('l1', 'rc', False, False)\n",
    "filt_mgOTUs = load_mgOTU_data(filtered_data=True, norm_type='l1', norm_axes='rc', psct_val=None, check_taxa=False)\n",
    "filt_tol1 = 0.019\n",
    "f_mdist_df, filt_matches, f_rdist_df = join_bins_and_tags(f_bin_df1, filt_mgOTUs, filt_tol1, True)"
   ]
  },
  {
   "cell_type": "code",
   "execution_count": null,
   "metadata": {
    "collapsed": false
   },
   "outputs": [],
   "source": [
    "test_bins = [\"Bin 18\", \"Bin 26\", \"Bin 52\", \"Bin 19\", \"Bin 31\", \"Bin 32\", \"Bin 55\", \"Bin 9\"]\n",
    "filt_matches.ix[test_bins, :].T"
   ]
  },
  {
   "cell_type": "code",
   "execution_count": null,
   "metadata": {
    "collapsed": false
   },
   "outputs": [],
   "source": [
    "bin_df_matched = import_bin_data('l1', 'rc', True, False)\n",
    "otu_df_matched = import_amplicon_matrix('l1', 'rc', False, None, None)\n",
    "filt_tol2 = 0.05\n",
    "otu_mdist_df, otu_matches, otu_rdist_df = join_bins_and_tags(bin_df_matched, otu_df_matched, filt_tol2, True)"
   ]
  },
  {
   "cell_type": "code",
   "execution_count": null,
   "metadata": {
    "collapsed": true
   },
   "outputs": [],
   "source": [
    "pos_bins = [\"Bin 18\", \"Bin 26\", \"Bin 52\"]\n",
    "otu_matches.ix[pos_bins, :].T"
   ]
  },
  {
   "cell_type": "code",
   "execution_count": null,
   "metadata": {
    "collapsed": true
   },
   "outputs": [],
   "source": [
    "f_bin_df2 = import_bin_data('l1', 'rc', False, False)\n",
    "ufilt_mgOTUs = load_mgOTU_data(filtered_data=False, norm_type='l1', norm_axes='rc', psct_val=None, check_taxa=False)\n",
    "uf_mdist_df, ufilt_matches, uf_rdist_df = join_bins_and_tags(f_bin_df2, ufilt_mgOTUs, filt_tol2, True)"
   ]
  },
  {
   "cell_type": "code",
   "execution_count": null,
   "metadata": {
    "collapsed": true
   },
   "outputs": [],
   "source": [
    "ufilt_matches.ix[pos_bins, :].T"
   ]
  }
 ],
 "metadata": {
  "kernelspec": {
   "display_name": "Python 2",
   "language": "python",
   "name": "python2"
  },
  "language_info": {
   "codemirror_mode": {
    "name": "ipython",
    "version": 2
   },
   "file_extension": ".py",
   "mimetype": "text/x-python",
   "name": "python",
   "nbconvert_exporter": "python",
   "pygments_lexer": "ipython2",
   "version": "2.7.11"
  }
 },
 "nbformat": 4,
 "nbformat_minor": 0
}
