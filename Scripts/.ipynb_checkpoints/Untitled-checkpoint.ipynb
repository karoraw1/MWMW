{
 "cells": [
  {
   "cell_type": "code",
   "execution_count": 1,
   "metadata": {
    "collapsed": false
   },
   "outputs": [
    {
     "name": "stdout",
     "output_type": "stream",
     "text": [
      "26211 + 1509 dropped from Genus because of low conf./gaps\n",
      "23232 + 1555 dropped from Family because of low conf./gaps\n",
      "20977 + 1530 dropped from Order because of low conf./gaps\n",
      "17229 + 1220 dropped from Class because of low conf./gaps\n",
      "13217 + 0 dropped from Phylum because of low conf./gaps\n",
      "185 + 0 dropped from Kingdom because of low conf./gaps\n"
     ]
    }
   ],
   "source": [
    "from load_classif_data import *\n",
    "from analyze_classif_data import *\n",
    "import matplotlib.pyplot as plt\n",
    "import pandas as pd\n",
    "import numpy as np\n",
    "from scipy.spatial.distance import pdist, squareform\n",
    "import os\n",
    "from itertools import chain"
   ]
  },
  {
   "cell_type": "code",
   "execution_count": 2,
   "metadata": {
    "collapsed": false
   },
   "outputs": [
    {
     "name": "stdout",
     "output_type": "stream",
     "text": [
      "All bin taxa levels are in otu taxa hierarchy!\n",
      "Normalization performed along axis of length (11,)\n",
      "Normalization performed along axis of length (87,)\n",
      "Performed l1 scaling on bins size (11, 87)\n",
      "Minimum replicate correlation: 0.78688\n",
      "Normalization performed along axis of length (11,)\n",
      "Normalization performed along axis of length (9953,)\n",
      "Performed l1 scaling on matched amplicons size (11, 9953)\n",
      "All bin taxa levels are in otu taxa hierarchy!\n",
      "Normalization performed along axis of length (17,)\n",
      "Normalization performed along axis of length (87,)\n",
      "Performed l1 scaling on bins size (17, 87)\n",
      "607 + 27 dropped from Genus because of low conf./gaps\n",
      "452 + 27 dropped from Family because of low conf./gaps\n",
      "370 + 27 dropped from Order because of low conf./gaps\n",
      "256 + 12 dropped from Class because of low conf./gaps\n",
      "156 + 0 dropped from Phylum because of low conf./gaps\n",
      "5 + 0 dropped from Kingdom because of low conf./gaps\n",
      "Normalization performed along axis of length (17,)\n",
      "Normalization performed along axis of length (674,)\n",
      "Performed l1 scaling on bins size (17, 674)\n"
     ]
    }
   ],
   "source": [
    "f_bin_df1 = import_bin_data('l1', 'rc', False, False)\n",
    "filt_mgOTUs = load_mgOTU_data(filtered_data=True, norm_type='l1', norm_axes='rc', psct_val=None, check_taxa=False)\n",
    "filt_tol1 = 0.019\n",
    "f_mdist_df, filt_matches, f_rdist_df = join_bins_and_tags(f_bin_df, filt_mgOTUs, filt_tol1, True)"
   ]
  },
  {
   "cell_type": "code",
   "execution_count": 3,
   "metadata": {
    "collapsed": false
   },
   "outputs": [
    {
     "data": {
      "text/html": [
       "<div>\n",
       "<table border=\"1\" class=\"dataframe\">\n",
       "  <thead>\n",
       "    <tr style=\"text-align: right;\">\n",
       "      <th>Bin</th>\n",
       "      <th>Bin 18</th>\n",
       "      <th>Bin 26</th>\n",
       "      <th>Bin 52</th>\n",
       "      <th>Bin 19</th>\n",
       "      <th>Bin 31</th>\n",
       "      <th>Bin 32</th>\n",
       "      <th>Bin 55</th>\n",
       "      <th>Bin 9</th>\n",
       "    </tr>\n",
       "  </thead>\n",
       "  <tbody>\n",
       "    <tr>\n",
       "      <th>Diff</th>\n",
       "      <td>0.0473734</td>\n",
       "      <td>0.376546</td>\n",
       "      <td>0.0199411</td>\n",
       "      <td>0.0315266</td>\n",
       "      <td>0.0987037</td>\n",
       "      <td>0.0632868</td>\n",
       "      <td>0.0792675</td>\n",
       "      <td>0.0320057</td>\n",
       "    </tr>\n",
       "    <tr>\n",
       "      <th>Min</th>\n",
       "      <td>-1</td>\n",
       "      <td>-0.970935</td>\n",
       "      <td>-0.932688</td>\n",
       "      <td>-0.67752</td>\n",
       "      <td>-0.923875</td>\n",
       "      <td>-0.744471</td>\n",
       "      <td>-0.853977</td>\n",
       "      <td>-0.713837</td>\n",
       "    </tr>\n",
       "    <tr>\n",
       "      <th>RawMin</th>\n",
       "      <td>0</td>\n",
       "      <td>0.0290649</td>\n",
       "      <td>0.0673123</td>\n",
       "      <td>0.206701</td>\n",
       "      <td>0.0761248</td>\n",
       "      <td>0.155748</td>\n",
       "      <td>0.146023</td>\n",
       "      <td>0.237393</td>\n",
       "    </tr>\n",
       "    <tr>\n",
       "      <th>Tag</th>\n",
       "      <td>[seq668, seq669, seq670, seq671, seq672, seq673]</td>\n",
       "      <td>[seq633, seq634]</td>\n",
       "      <td>[seq381]</td>\n",
       "      <td>[seq50]</td>\n",
       "      <td>[seq260]</td>\n",
       "      <td>[seq283]</td>\n",
       "      <td>[seq260, seq300, seq301, seq306, seq316, seq31...</td>\n",
       "      <td>[seq85]</td>\n",
       "    </tr>\n",
       "    <tr>\n",
       "      <th>Weight</th>\n",
       "      <td>1.04737</td>\n",
       "      <td>1.34748</td>\n",
       "      <td>0.952629</td>\n",
       "      <td>0.709047</td>\n",
       "      <td>1.02258</td>\n",
       "      <td>0.807758</td>\n",
       "      <td>0.933245</td>\n",
       "      <td>0.745842</td>\n",
       "    </tr>\n",
       "    <tr>\n",
       "      <th>rTags</th>\n",
       "      <td>[seq668, seq669, seq670, seq671, seq672, seq673]</td>\n",
       "      <td>[seq633, seq634]</td>\n",
       "      <td>[seq381]</td>\n",
       "      <td>[seq256, seq260, seq283]</td>\n",
       "      <td>[seq260]</td>\n",
       "      <td>[seq268]</td>\n",
       "      <td>[seq260, seq300, seq301, seq306, seq316, seq31...</td>\n",
       "      <td>[seq117, seq91]</td>\n",
       "    </tr>\n",
       "    <tr>\n",
       "      <th>n_matches</th>\n",
       "      <td>6</td>\n",
       "      <td>2</td>\n",
       "      <td>1</td>\n",
       "      <td>1</td>\n",
       "      <td>1</td>\n",
       "      <td>1</td>\n",
       "      <td>7</td>\n",
       "      <td>1</td>\n",
       "    </tr>\n",
       "  </tbody>\n",
       "</table>\n",
       "</div>"
      ],
      "text/plain": [
       "Bin                                                  Bin 18            Bin 26  \\\n",
       "Diff                                              0.0473734          0.376546   \n",
       "Min                                                      -1         -0.970935   \n",
       "RawMin                                                    0         0.0290649   \n",
       "Tag        [seq668, seq669, seq670, seq671, seq672, seq673]  [seq633, seq634]   \n",
       "Weight                                              1.04737           1.34748   \n",
       "rTags      [seq668, seq669, seq670, seq671, seq672, seq673]  [seq633, seq634]   \n",
       "n_matches                                                 6                 2   \n",
       "\n",
       "Bin           Bin 52                    Bin 19     Bin 31     Bin 32  \\\n",
       "Diff       0.0199411                 0.0315266  0.0987037  0.0632868   \n",
       "Min        -0.932688                  -0.67752  -0.923875  -0.744471   \n",
       "RawMin     0.0673123                  0.206701  0.0761248   0.155748   \n",
       "Tag         [seq381]                   [seq50]   [seq260]   [seq283]   \n",
       "Weight      0.952629                  0.709047    1.02258   0.807758   \n",
       "rTags       [seq381]  [seq256, seq260, seq283]   [seq260]   [seq268]   \n",
       "n_matches          1                         1          1          1   \n",
       "\n",
       "Bin                                                   Bin 55            Bin 9  \n",
       "Diff                                               0.0792675        0.0320057  \n",
       "Min                                                -0.853977        -0.713837  \n",
       "RawMin                                              0.146023         0.237393  \n",
       "Tag        [seq260, seq300, seq301, seq306, seq316, seq31...          [seq85]  \n",
       "Weight                                              0.933245         0.745842  \n",
       "rTags      [seq260, seq300, seq301, seq306, seq316, seq31...  [seq117, seq91]  \n",
       "n_matches                                                  7                1  "
      ]
     },
     "execution_count": 3,
     "metadata": {},
     "output_type": "execute_result"
    }
   ],
   "source": [
    "test_bins = [\"Bin 18\", \"Bin 26\", \"Bin 52\", \"Bin 19\", \"Bin 31\", \"Bin 32\", \"Bin 55\", \"Bin 9\"]\n",
    "filt_matches.ix[test_bins, :].T"
   ]
  },
  {
   "cell_type": "code",
   "execution_count": null,
   "metadata": {
    "collapsed": true
   },
   "outputs": [],
   "source": [
    "bin_df_matched = import_bin_data('l1', 'rc', True, False)\n",
    "otu_df_matched = import_amplicon_matrix('l1', 'rc', False, None, None)\n",
    "filt_tol2 = 0.05\n",
    "otu_mdist_df, otu_matches, otu_rdist_df = join_bins_and_tags(bin_df_matched, otu_df_matched, filt_tol2, True)"
   ]
  },
  {
   "cell_type": "code",
   "execution_count": null,
   "metadata": {
    "collapsed": true
   },
   "outputs": [],
   "source": [
    "pos_bins = [\"Bin 18\", \"Bin 26\", \"Bin 52\"]\n",
    "otu_matches.ix[test_bins, :].T"
   ]
  },
  {
   "cell_type": "code",
   "execution_count": null,
   "metadata": {
    "collapsed": true
   },
   "outputs": [],
   "source": [
    "f_bin_df2 = import_bin_data('l1', 'rc', False, False)\n",
    "ufilt_mgOTUs = load_mgOTU_data(filtered_data=False, norm_type='l1', norm_axes='rc', psct_val=None, check_taxa=False)\n",
    "uf_mdist_df, filt_matches, uf_rdist_df = join_bins_and_tags(f_bin_df2, ufilt_mgOTUs, filt_tol2, True)"
   ]
  },
  {
   "cell_type": "code",
   "execution_count": null,
   "metadata": {
    "collapsed": true
   },
   "outputs": [],
   "source": [
    "test_bins = [\"Bin 18\", \"Bin 26\", \"Bin 52\", \"Bin 19\", \"Bin 31\", \"Bin 32\", \"Bin 55\", \"Bin 9\"]\n",
    "filt_matches.ix[test_bins, :].T"
   ]
  }
 ],
 "metadata": {
  "kernelspec": {
   "display_name": "Python 2",
   "language": "python",
   "name": "python2"
  },
  "language_info": {
   "codemirror_mode": {
    "name": "ipython",
    "version": 2
   },
   "file_extension": ".py",
   "mimetype": "text/x-python",
   "name": "python",
   "nbconvert_exporter": "python",
   "pygments_lexer": "ipython2",
   "version": "2.7.11"
  }
 },
 "nbformat": 4,
 "nbformat_minor": 0
}
