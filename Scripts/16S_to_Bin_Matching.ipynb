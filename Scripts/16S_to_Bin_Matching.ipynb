{
 "cells": [
  {
   "cell_type": "code",
   "execution_count": 1,
   "metadata": {
    "collapsed": false
   },
   "outputs": [
    {
     "name": "stdout",
     "output_type": "stream",
     "text": [
      "26211 + 1509 dropped from Genus because of low conf./gaps\n",
      "23232 + 1555 dropped from Family because of low conf./gaps\n",
      "20977 + 1530 dropped from Order because of low conf./gaps\n",
      "17229 + 1220 dropped from Class because of low conf./gaps\n",
      "13217 + 0 dropped from Phylum because of low conf./gaps\n",
      "185 + 0 dropped from Kingdom because of low conf./gaps\n"
     ]
    }
   ],
   "source": [
    "from load_classif_data import *\n",
    "from analyze_classif_data import *\n",
    "import matplotlib.pyplot as plt\n",
    "import pandas as pd\n",
    "import numpy as np\n",
    "from scipy.spatial.distance import pdist, squareform\n",
    "import os\n",
    "from itertools import chain"
   ]
  },
  {
   "cell_type": "code",
   "execution_count": 2,
   "metadata": {
    "collapsed": false
   },
   "outputs": [
    {
     "name": "stdout",
     "output_type": "stream",
     "text": [
      "All bin taxa levels are in otu taxa hierarchy!\n",
      "Normalization performed along axis of length (11,)\n",
      "Normalization performed along axis of length (87,)\n",
      "Performed l1 scaling on bins size (11, 87)\n",
      "Minimum replicate correlation: 0.78688\n",
      "Lowest abunandance sum after thresholding to top 1000 is seq376 at 60.0175207539\n",
      "Normalization performed along axis of length (11,)\n",
      "Normalization performed along axis of length (1000,)\n",
      "Performed l1 scaling on matched amplicons size (11, 1000)\n"
     ]
    }
   ],
   "source": [
    "rrna_preloc_bins = [\"Bin 19\", \"Bin 31\", \"Bin 32\", \"Bin 55\", \"Bin 9\"]\n",
    "otu_match_seqs = [\"seq39\", \"seq110\", \"seq359\", \"seq144\", \"seq99\"]\n",
    "pos_bins = [\"Bin 18\", \"Bin 26\", \"Bin 52\"]\n",
    "bin_df_matched = import_bin_data('l1', 'rc', True, False)\n",
    "otu_df_matched = import_amplicon_matrix('l1', 'rc', False, None, None)"
   ]
  },
  {
   "cell_type": "code",
   "execution_count": 3,
   "metadata": {
    "collapsed": false
   },
   "outputs": [
    {
     "name": "stdout",
     "output_type": "stream",
     "text": [
      "Bin 19 0.0\n",
      "Bin 31 0.024\n",
      "Bin 32 0.0\n",
      "Bin 55 0.0\n",
      "Bin 9 0.0\n",
      "0.0243250195895\n"
     ]
    }
   ],
   "source": [
    "filt_tol2, splitN2, splitN1 = 0.0251, 11, 17\n",
    "otu_mdist_df, otu_matches, otu_rdist_df = join_bins_and_tags(bin_df_matched, otu_df_matched, filt_tol2, splitN2, True)\n",
    "print sum_error(otu_match_seqs, rrna_preloc_bins, otu_mdist_df)"
   ]
  },
  {
   "cell_type": "code",
   "execution_count": 4,
   "metadata": {
    "collapsed": false
   },
   "outputs": [
    {
     "data": {
      "text/html": [
       "<div>\n",
       "<table border=\"1\" class=\"dataframe\">\n",
       "  <thead>\n",
       "    <tr style=\"text-align: right;\">\n",
       "      <th>Bin</th>\n",
       "      <th>Bin 19</th>\n",
       "      <th>Bin 31</th>\n",
       "      <th>Bin 32</th>\n",
       "      <th>Bin 55</th>\n",
       "      <th>Bin 9</th>\n",
       "    </tr>\n",
       "  </thead>\n",
       "  <tbody>\n",
       "    <tr>\n",
       "      <th>Diff</th>\n",
       "      <td>0.0287022</td>\n",
       "      <td>0.0391117</td>\n",
       "      <td>0.0572456</td>\n",
       "      <td>0.0307189</td>\n",
       "      <td>0.0326755</td>\n",
       "    </tr>\n",
       "    <tr>\n",
       "      <th>Min</th>\n",
       "      <td>-0.941591</td>\n",
       "      <td>-0.962877</td>\n",
       "      <td>-0.907243</td>\n",
       "      <td>-0.898725</td>\n",
       "      <td>-0.877115</td>\n",
       "    </tr>\n",
       "    <tr>\n",
       "      <th>RawMin</th>\n",
       "      <td>0.0584089</td>\n",
       "      <td>0.0371232</td>\n",
       "      <td>0.0397893</td>\n",
       "      <td>0.101275</td>\n",
       "      <td>0.122885</td>\n",
       "    </tr>\n",
       "    <tr>\n",
       "      <th>Tag</th>\n",
       "      <td>[seq39, seq2948]</td>\n",
       "      <td>[seq110, seq22916, seq394, seq6740]</td>\n",
       "      <td>[seq359]</td>\n",
       "      <td>[seq33, seq144, seq394]</td>\n",
       "      <td>[seq99]</td>\n",
       "    </tr>\n",
       "    <tr>\n",
       "      <th>Weight</th>\n",
       "      <td>0.970293</td>\n",
       "      <td>1.00199</td>\n",
       "      <td>0.964489</td>\n",
       "      <td>0.929444</td>\n",
       "      <td>0.90979</td>\n",
       "    </tr>\n",
       "    <tr>\n",
       "      <th>rTags</th>\n",
       "      <td>[seq39, seq2948, seq104]</td>\n",
       "      <td>[seq110, seq22916, seq394, seq6740]</td>\n",
       "      <td>[seq2651]</td>\n",
       "      <td>[seq33, seq144, seq394]</td>\n",
       "      <td>[seq99, seq1960, seq2453]</td>\n",
       "    </tr>\n",
       "    <tr>\n",
       "      <th>refined_matches</th>\n",
       "      <td>2</td>\n",
       "      <td>4</td>\n",
       "      <td>1</td>\n",
       "      <td>3</td>\n",
       "      <td>1</td>\n",
       "    </tr>\n",
       "    <tr>\n",
       "      <th>raw_matches</th>\n",
       "      <td>3</td>\n",
       "      <td>4</td>\n",
       "      <td>1</td>\n",
       "      <td>3</td>\n",
       "      <td>3</td>\n",
       "    </tr>\n",
       "  </tbody>\n",
       "</table>\n",
       "</div>"
      ],
      "text/plain": [
       "Bin                                Bin 19  \\\n",
       "Diff                            0.0287022   \n",
       "Min                             -0.941591   \n",
       "RawMin                          0.0584089   \n",
       "Tag                      [seq39, seq2948]   \n",
       "Weight                           0.970293   \n",
       "rTags            [seq39, seq2948, seq104]   \n",
       "refined_matches                         2   \n",
       "raw_matches                             3   \n",
       "\n",
       "Bin                                           Bin 31     Bin 32  \\\n",
       "Diff                                       0.0391117  0.0572456   \n",
       "Min                                        -0.962877  -0.907243   \n",
       "RawMin                                     0.0371232  0.0397893   \n",
       "Tag              [seq110, seq22916, seq394, seq6740]   [seq359]   \n",
       "Weight                                       1.00199   0.964489   \n",
       "rTags            [seq110, seq22916, seq394, seq6740]  [seq2651]   \n",
       "refined_matches                                    4          1   \n",
       "raw_matches                                        4          1   \n",
       "\n",
       "Bin                               Bin 55                      Bin 9  \n",
       "Diff                           0.0307189                  0.0326755  \n",
       "Min                            -0.898725                  -0.877115  \n",
       "RawMin                          0.101275                   0.122885  \n",
       "Tag              [seq33, seq144, seq394]                    [seq99]  \n",
       "Weight                          0.929444                    0.90979  \n",
       "rTags            [seq33, seq144, seq394]  [seq99, seq1960, seq2453]  \n",
       "refined_matches                        3                          1  \n",
       "raw_matches                            3                          3  "
      ]
     },
     "execution_count": 4,
     "metadata": {},
     "output_type": "execute_result"
    }
   ],
   "source": [
    "otu_matches.ix[rrna_preloc_bins, :].T"
   ]
  },
  {
   "cell_type": "code",
   "execution_count": 5,
   "metadata": {
    "collapsed": false
   },
   "outputs": [
    {
     "data": {
      "text/html": [
       "<div>\n",
       "<table border=\"1\" class=\"dataframe\">\n",
       "  <thead>\n",
       "    <tr style=\"text-align: right;\">\n",
       "      <th>Bin</th>\n",
       "      <th>Bin 18</th>\n",
       "      <th>Bin 26</th>\n",
       "      <th>Bin 52</th>\n",
       "    </tr>\n",
       "  </thead>\n",
       "  <tbody>\n",
       "    <tr>\n",
       "      <th>Diff</th>\n",
       "      <td>0.0269117</td>\n",
       "      <td>0.0346094</td>\n",
       "      <td>0.276245</td>\n",
       "    </tr>\n",
       "    <tr>\n",
       "      <th>Min</th>\n",
       "      <td>-0.669218</td>\n",
       "      <td>-0.25463</td>\n",
       "      <td>-0.528388</td>\n",
       "    </tr>\n",
       "    <tr>\n",
       "      <th>RawMin</th>\n",
       "      <td>0.330782</td>\n",
       "      <td>0.330782</td>\n",
       "      <td>0.217463</td>\n",
       "    </tr>\n",
       "    <tr>\n",
       "      <th>Tag</th>\n",
       "      <td>[seq24, seq56, seq52, seq22, seq223, seq41, se...</td>\n",
       "      <td>[seq156]</td>\n",
       "      <td>[seq953]</td>\n",
       "    </tr>\n",
       "    <tr>\n",
       "      <th>Weight</th>\n",
       "      <td>0.69613</td>\n",
       "      <td>0.28924</td>\n",
       "      <td>0.804632</td>\n",
       "    </tr>\n",
       "    <tr>\n",
       "      <th>rTags</th>\n",
       "      <td>[seq24, seq56, seq52, seq22, seq223, seq41, se...</td>\n",
       "      <td>[seq24, seq56, seq52, seq22, seq223, seq41, se...</td>\n",
       "      <td>[seq64, seq233, seq17035]</td>\n",
       "    </tr>\n",
       "    <tr>\n",
       "      <th>refined_matches</th>\n",
       "      <td>13</td>\n",
       "      <td>1</td>\n",
       "      <td>1</td>\n",
       "    </tr>\n",
       "    <tr>\n",
       "      <th>raw_matches</th>\n",
       "      <td>13</td>\n",
       "      <td>13</td>\n",
       "      <td>3</td>\n",
       "    </tr>\n",
       "  </tbody>\n",
       "</table>\n",
       "</div>"
      ],
      "text/plain": [
       "Bin                                                         Bin 18  \\\n",
       "Diff                                                     0.0269117   \n",
       "Min                                                      -0.669218   \n",
       "RawMin                                                    0.330782   \n",
       "Tag              [seq24, seq56, seq52, seq22, seq223, seq41, se...   \n",
       "Weight                                                     0.69613   \n",
       "rTags            [seq24, seq56, seq52, seq22, seq223, seq41, se...   \n",
       "refined_matches                                                 13   \n",
       "raw_matches                                                     13   \n",
       "\n",
       "Bin                                                         Bin 26  \\\n",
       "Diff                                                     0.0346094   \n",
       "Min                                                       -0.25463   \n",
       "RawMin                                                    0.330782   \n",
       "Tag                                                       [seq156]   \n",
       "Weight                                                     0.28924   \n",
       "rTags            [seq24, seq56, seq52, seq22, seq223, seq41, se...   \n",
       "refined_matches                                                  1   \n",
       "raw_matches                                                     13   \n",
       "\n",
       "Bin                                 Bin 52  \n",
       "Diff                              0.276245  \n",
       "Min                              -0.528388  \n",
       "RawMin                            0.217463  \n",
       "Tag                               [seq953]  \n",
       "Weight                            0.804632  \n",
       "rTags            [seq64, seq233, seq17035]  \n",
       "refined_matches                          1  \n",
       "raw_matches                              3  "
      ]
     },
     "execution_count": 5,
     "metadata": {},
     "output_type": "execute_result"
    }
   ],
   "source": [
    "otu_matches.ix[pos_bins, :].T"
   ]
  },
  {
   "cell_type": "code",
   "execution_count": 6,
   "metadata": {
    "collapsed": false
   },
   "outputs": [
    {
     "name": "stdout",
     "output_type": "stream",
     "text": [
      "All bin taxa levels are in otu taxa hierarchy!\n",
      "Normalization performed along axis of length (17,)\n",
      "Normalization performed along axis of length (87,)\n",
      "Performed l1 scaling on bins size (17, 87)\n",
      "1665 + 37 dropped from Genus because of low conf./gaps\n",
      "1209 + 38 dropped from Family because of low conf./gaps\n",
      "982 + 37 dropped from Order because of low conf./gaps\n",
      "648 + 16 dropped from Class because of low conf./gaps\n",
      "443 + 0 dropped from Phylum because of low conf./gaps\n",
      "16 + 0 dropped from Kingdom because of low conf./gaps\n",
      "Normalization performed along axis of length (17,)\n",
      "Normalization performed along axis of length (1776,)\n",
      "Performed l1 scaling on bins size (17, 1776)\n"
     ]
    }
   ],
   "source": [
    "filt_tol3 = 0.176\n",
    "f_bin_df2 = import_bin_data('l1', 'rc', False, False)\n",
    "ufilt_mgOTUs = load_mgOTU_data(filtered_data=False, norm_type='l1', \n",
    "                               norm_axes='rc', psct_val=None, check_taxa=False)"
   ]
  },
  {
   "cell_type": "code",
   "execution_count": 7,
   "metadata": {
    "collapsed": false
   },
   "outputs": [
    {
     "name": "stdout",
     "output_type": "stream",
     "text": [
      "Bin 19 0.048\n",
      "Bin 31 0.028\n",
      "Bin 32 0.0\n",
      "Bin 55 0.175\n",
      "Bin 9 0.324\n",
      "0.574538877609\n"
     ]
    }
   ],
   "source": [
    "unfilt_match_seqs = [\"seq539\", \"seq412\", \"seq401\", \"seq595\", \"seq28\"]\n",
    "uf_mdist_df, ufilt_matches, uf_rdist_df = join_bins_and_tags(f_bin_df2, ufilt_mgOTUs, filt_tol3, splitN1, True)\n",
    "print sum_error(unfilt_match_seqs, rrna_preloc_bins, uf_mdist_df)"
   ]
  },
  {
   "cell_type": "code",
   "execution_count": 10,
   "metadata": {
    "collapsed": false
   },
   "outputs": [
    {
     "data": {
      "text/html": [
       "<div>\n",
       "<table border=\"1\" class=\"dataframe\">\n",
       "  <thead>\n",
       "    <tr style=\"text-align: right;\">\n",
       "      <th>Bin</th>\n",
       "      <th>Bin 19</th>\n",
       "      <th>Bin 31</th>\n",
       "      <th>Bin 32</th>\n",
       "      <th>Bin 55</th>\n",
       "      <th>Bin 9</th>\n",
       "    </tr>\n",
       "  </thead>\n",
       "  <tbody>\n",
       "    <tr>\n",
       "      <th>Diff</th>\n",
       "      <td>0.277584</td>\n",
       "      <td>0.176119</td>\n",
       "      <td>0.177764</td>\n",
       "      <td>0.18571</td>\n",
       "      <td>0.209629</td>\n",
       "    </tr>\n",
       "    <tr>\n",
       "      <th>Min</th>\n",
       "      <td>-0.794367</td>\n",
       "      <td>-0.870151</td>\n",
       "      <td>-0.864726</td>\n",
       "      <td>-0.861832</td>\n",
       "      <td>-0.731657</td>\n",
       "    </tr>\n",
       "    <tr>\n",
       "      <th>RawMin</th>\n",
       "      <td>0.0940572</td>\n",
       "      <td>0.129849</td>\n",
       "      <td>0.112464</td>\n",
       "      <td>0.138168</td>\n",
       "      <td>0.263462</td>\n",
       "    </tr>\n",
       "    <tr>\n",
       "      <th>Tag</th>\n",
       "      <td>[seq539, seq630, seq7, seq90]</td>\n",
       "      <td>[seq197, seq293, seq412, seq421, seq482, seq49...</td>\n",
       "      <td>[seq401]</td>\n",
       "      <td>[seq197, seq412, seq482, seq492, seq518, seq53...</td>\n",
       "      <td>[seq136, seq366, seq415, seq630, seq7, seq80, ...</td>\n",
       "    </tr>\n",
       "    <tr>\n",
       "      <th>Weight</th>\n",
       "      <td>1.07195</td>\n",
       "      <td>1.04627</td>\n",
       "      <td>1.04249</td>\n",
       "      <td>1.04754</td>\n",
       "      <td>0.941286</td>\n",
       "    </tr>\n",
       "    <tr>\n",
       "      <th>rTags</th>\n",
       "      <td>[seq482, seq518, seq539, seq595, seq627, seq7]</td>\n",
       "      <td>[seq197, seq293, seq412, seq421, seq482, seq49...</td>\n",
       "      <td>[seq111, seq197, seq333, seq401, seq412, seq42...</td>\n",
       "      <td>[seq197, seq412, seq482, seq492, seq518, seq53...</td>\n",
       "      <td>[seq111, seq136, seq17, seq172, seq197, seq21,...</td>\n",
       "    </tr>\n",
       "    <tr>\n",
       "      <th>refined_matches</th>\n",
       "      <td>4</td>\n",
       "      <td>18</td>\n",
       "      <td>1</td>\n",
       "      <td>17</td>\n",
       "      <td>8</td>\n",
       "    </tr>\n",
       "    <tr>\n",
       "      <th>raw_matches</th>\n",
       "      <td>6</td>\n",
       "      <td>18</td>\n",
       "      <td>10</td>\n",
       "      <td>17</td>\n",
       "      <td>35</td>\n",
       "    </tr>\n",
       "  </tbody>\n",
       "</table>\n",
       "</div>"
      ],
      "text/plain": [
       "Bin                                                      Bin 19  \\\n",
       "Diff                                                   0.277584   \n",
       "Min                                                   -0.794367   \n",
       "RawMin                                                0.0940572   \n",
       "Tag                               [seq539, seq630, seq7, seq90]   \n",
       "Weight                                                  1.07195   \n",
       "rTags            [seq482, seq518, seq539, seq595, seq627, seq7]   \n",
       "refined_matches                                               4   \n",
       "raw_matches                                                   6   \n",
       "\n",
       "Bin                                                         Bin 31  \\\n",
       "Diff                                                      0.176119   \n",
       "Min                                                      -0.870151   \n",
       "RawMin                                                    0.129849   \n",
       "Tag              [seq197, seq293, seq412, seq421, seq482, seq49...   \n",
       "Weight                                                     1.04627   \n",
       "rTags            [seq197, seq293, seq412, seq421, seq482, seq49...   \n",
       "refined_matches                                                 18   \n",
       "raw_matches                                                     18   \n",
       "\n",
       "Bin                                                         Bin 32  \\\n",
       "Diff                                                      0.177764   \n",
       "Min                                                      -0.864726   \n",
       "RawMin                                                    0.112464   \n",
       "Tag                                                       [seq401]   \n",
       "Weight                                                     1.04249   \n",
       "rTags            [seq111, seq197, seq333, seq401, seq412, seq42...   \n",
       "refined_matches                                                  1   \n",
       "raw_matches                                                     10   \n",
       "\n",
       "Bin                                                         Bin 55  \\\n",
       "Diff                                                       0.18571   \n",
       "Min                                                      -0.861832   \n",
       "RawMin                                                    0.138168   \n",
       "Tag              [seq197, seq412, seq482, seq492, seq518, seq53...   \n",
       "Weight                                                     1.04754   \n",
       "rTags            [seq197, seq412, seq482, seq492, seq518, seq53...   \n",
       "refined_matches                                                 17   \n",
       "raw_matches                                                     17   \n",
       "\n",
       "Bin                                                          Bin 9  \n",
       "Diff                                                      0.209629  \n",
       "Min                                                      -0.731657  \n",
       "RawMin                                                    0.263462  \n",
       "Tag              [seq136, seq366, seq415, seq630, seq7, seq80, ...  \n",
       "Weight                                                    0.941286  \n",
       "rTags            [seq111, seq136, seq17, seq172, seq197, seq21,...  \n",
       "refined_matches                                                  8  \n",
       "raw_matches                                                     35  "
      ]
     },
     "execution_count": 10,
     "metadata": {},
     "output_type": "execute_result"
    }
   ],
   "source": [
    "ufilt_matches.ix[rrna_preloc_bins, :].T"
   ]
  },
  {
   "cell_type": "code",
   "execution_count": 11,
   "metadata": {
    "collapsed": false
   },
   "outputs": [
    {
     "data": {
      "text/html": [
       "<div>\n",
       "<table border=\"1\" class=\"dataframe\">\n",
       "  <thead>\n",
       "    <tr style=\"text-align: right;\">\n",
       "      <th>Bin</th>\n",
       "      <th>Bin 18</th>\n",
       "      <th>Bin 26</th>\n",
       "      <th>Bin 52</th>\n",
       "    </tr>\n",
       "  </thead>\n",
       "  <tbody>\n",
       "    <tr>\n",
       "      <th>Diff</th>\n",
       "      <td>0.219305</td>\n",
       "      <td>0.234711</td>\n",
       "      <td>0.683791</td>\n",
       "    </tr>\n",
       "    <tr>\n",
       "      <th>Min</th>\n",
       "      <td>-1</td>\n",
       "      <td>-0.939496</td>\n",
       "      <td>-0.929871</td>\n",
       "    </tr>\n",
       "    <tr>\n",
       "      <th>RawMin</th>\n",
       "      <td>0</td>\n",
       "      <td>0.060504</td>\n",
       "      <td>0.0701287</td>\n",
       "    </tr>\n",
       "    <tr>\n",
       "      <th>Tag</th>\n",
       "      <td>[seq1684, seq1699, seq1759, seq1760, seq1761, ...</td>\n",
       "      <td>[seq1396, seq1410, seq1423]</td>\n",
       "      <td>[seq1764, seq1769, seq1770, seq1775, seq803]</td>\n",
       "    </tr>\n",
       "    <tr>\n",
       "      <th>Weight</th>\n",
       "      <td>1.2193</td>\n",
       "      <td>1.17421</td>\n",
       "      <td>1.61366</td>\n",
       "    </tr>\n",
       "    <tr>\n",
       "      <th>rTags</th>\n",
       "      <td>[seq1684, seq1699, seq1759, seq1760, seq1761, ...</td>\n",
       "      <td>[seq1396, seq1410, seq1423]</td>\n",
       "      <td>[seq1406, seq1684, seq1699, seq1759, seq1760, ...</td>\n",
       "    </tr>\n",
       "    <tr>\n",
       "      <th>refined_matches</th>\n",
       "      <td>21</td>\n",
       "      <td>3</td>\n",
       "      <td>5</td>\n",
       "    </tr>\n",
       "    <tr>\n",
       "      <th>raw_matches</th>\n",
       "      <td>21</td>\n",
       "      <td>3</td>\n",
       "      <td>22</td>\n",
       "    </tr>\n",
       "  </tbody>\n",
       "</table>\n",
       "</div>"
      ],
      "text/plain": [
       "Bin                                                         Bin 18  \\\n",
       "Diff                                                      0.219305   \n",
       "Min                                                             -1   \n",
       "RawMin                                                           0   \n",
       "Tag              [seq1684, seq1699, seq1759, seq1760, seq1761, ...   \n",
       "Weight                                                      1.2193   \n",
       "rTags            [seq1684, seq1699, seq1759, seq1760, seq1761, ...   \n",
       "refined_matches                                                 21   \n",
       "raw_matches                                                     21   \n",
       "\n",
       "Bin                                   Bin 26  \\\n",
       "Diff                                0.234711   \n",
       "Min                                -0.939496   \n",
       "RawMin                              0.060504   \n",
       "Tag              [seq1396, seq1410, seq1423]   \n",
       "Weight                               1.17421   \n",
       "rTags            [seq1396, seq1410, seq1423]   \n",
       "refined_matches                            3   \n",
       "raw_matches                                3   \n",
       "\n",
       "Bin                                                         Bin 52  \n",
       "Diff                                                      0.683791  \n",
       "Min                                                      -0.929871  \n",
       "RawMin                                                   0.0701287  \n",
       "Tag                   [seq1764, seq1769, seq1770, seq1775, seq803]  \n",
       "Weight                                                     1.61366  \n",
       "rTags            [seq1406, seq1684, seq1699, seq1759, seq1760, ...  \n",
       "refined_matches                                                  5  \n",
       "raw_matches                                                     22  "
      ]
     },
     "execution_count": 11,
     "metadata": {},
     "output_type": "execute_result"
    }
   ],
   "source": [
    "ufilt_matches.ix[pos_bins, :].T"
   ]
  }
 ],
 "metadata": {
  "kernelspec": {
   "display_name": "Python 2",
   "language": "python",
   "name": "python2"
  },
  "language_info": {
   "codemirror_mode": {
    "name": "ipython",
    "version": 2
   },
   "file_extension": ".py",
   "mimetype": "text/x-python",
   "name": "python",
   "nbconvert_exporter": "python",
   "pygments_lexer": "ipython2",
   "version": "2.7.11"
  }
 },
 "nbformat": 4,
 "nbformat_minor": 0
}
